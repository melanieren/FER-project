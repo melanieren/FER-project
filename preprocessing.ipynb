{
  "nbformat": 4,
  "nbformat_minor": 0,
  "metadata": {
    "colab": {
      "name": "preprocessing.ipynb",
      "provenance": [],
      "collapsed_sections": []
    },
    "kernelspec": {
      "name": "python3",
      "display_name": "Python 3"
    }
  },
  "cells": [
    {
      "cell_type": "code",
      "metadata": {
        "id": "MlDQG8VxfrKW"
      },
      "source": [
        "from google.colab import drive\n",
        "import pandas as pd\n",
        "import numpy as np\n",
        "import cv2 as cv\n",
        "import dlib\n",
        "from google.colab.patches import cv2_imshow\n",
        "from PIL import Image\n",
        "import math"
      ],
      "execution_count": 1,
      "outputs": []
    },
    {
      "cell_type": "code",
      "metadata": {
        "id": "VRZbFkr6cgkl",
        "outputId": "18af23a5-2eae-4826-8d75-c9b1281f4e5a",
        "colab": {
          "base_uri": "https://localhost:8080/"
        }
      },
      "source": [
        "drive.mount('/content/drive')\n",
        "#@title fer2013 csv\n",
        "shared_project_base_dir = 'My Drive/4A/CS486 Project' #@param {type:\"string\"}\n",
        "full_project_dir = f\"/content/drive/{shared_project_base_dir}\""
      ],
      "execution_count": 2,
      "outputs": [
        {
          "output_type": "stream",
          "text": [
            "Mounted at /content/drive\n"
          ],
          "name": "stdout"
        }
      ]
    },
    {
      "cell_type": "code",
      "metadata": {
        "id": "2RWN2WAx22oj"
      },
      "source": [
        "def pixels_str_to_image(pixels):\n",
        "  pixels = np.asarray(list(pixels.split(' ')), dtype=np.uint8)\n",
        "  return pixels.reshape((48,48))\n",
        "\n",
        "def load_df(filepath):\n",
        "  \"\"\"\n",
        "  Loads a file as a dataframe and converts the \"pixels\" column to a 48 by 48 image\n",
        "  \"\"\"\n",
        "  df = pd.read_csv(filepath)\n",
        "  df['pixels'] = df['pixels'].apply(pixels_str_to_image)\n",
        "  return df"
      ],
      "execution_count": 4,
      "outputs": []
    },
    {
      "cell_type": "code",
      "metadata": {
        "id": "5UD7AUAhcsBV",
        "outputId": "f8447512-df29-4bed-f9f5-1c9fdffa8f8d",
        "colab": {
          "base_uri": "https://localhost:8080/",
          "height": 188
        }
      },
      "source": [
        "all_data = load_df(f\"{full_project_dir}/raw_data/fer2013/fer2013.csv\")\n",
        "print(all_data.head())\n",
        "cv2_imshow(all_data['pixels'][0])\n",
        "cv.imwrite(f\"{full_project_dir}/raw_data/fer_example.png\", all_data['pixels'][0])"
      ],
      "execution_count": 5,
      "outputs": [
        {
          "output_type": "stream",
          "text": [
            "   emotion                                             pixels     Usage\n",
            "0        0  [[70, 80, 82, 72, 58, 58, 60, 63, 54, 58, 60, ...  Training\n",
            "1        0  [[151, 150, 147, 155, 148, 133, 111, 140, 170,...  Training\n",
            "2        2  [[231, 212, 156, 164, 174, 138, 161, 173, 182,...  Training\n",
            "3        4  [[24, 32, 36, 30, 32, 23, 19, 20, 30, 41, 21, ...  Training\n",
            "4        6  [[4, 0, 0, 0, 0, 0, 0, 0, 0, 0, 0, 0, 3, 15, 2...  Training\n"
          ],
          "name": "stdout"
        },
        {
          "output_type": "display_data",
          "data": {
            "image/png": "[encoded data removed]",
            "text/plain": [
              "<PIL.Image.Image image mode=L size=48x48 at 0x7FD5D4FD0390>"
            ]
          },
          "metadata": {
            "tags": []
          }
        },
        {
          "output_type": "execute_result",
          "data": {
            "text/plain": [
              "True"
            ]
          },
          "metadata": {
            "tags": []
          },
          "execution_count": 5
        }
      ]
    },
    {
      "cell_type": "code",
      "metadata": {
        "id": "cwC160mSdSEk",
        "outputId": "bd519fad-79e0-49cf-d00f-4ac23d644a32",
        "colab": {
          "base_uri": "https://localhost:8080/",
          "height": 195
        }
      },
      "source": [
        "train_df = all_data[all_data.Usage == 'Training'].copy()\n",
        "train_df.head()"
      ],
      "execution_count": null,
      "outputs": [
        {
          "output_type": "execute_result",
          "data": {
            "text/html": [
              "<div>\n",
              "<style scoped>\n",
              "    .dataframe tbody tr th:only-of-type {\n",
              "        vertical-align: middle;\n",
              "    }\n",
              "\n",
              "    .dataframe tbody tr th {\n",
              "        vertical-align: top;\n",
              "    }\n",
              "\n",
              "    .dataframe thead th {\n",
              "        text-align: right;\n",
              "    }\n",
              "</style>\n",
              "<table border=\"1\" class=\"dataframe\">\n",
              "  <thead>\n",
              "    <tr style=\"text-align: right;\">\n",
              "      <th></th>\n",
              "      <th>emotion</th>\n",
              "      <th>pixels</th>\n",
              "      <th>Usage</th>\n",
              "    </tr>\n",
              "  </thead>\n",
              "  <tbody>\n",
              "    <tr>\n",
              "      <th>0</th>\n",
              "      <td>0</td>\n",
              "      <td>[[70, 80, 82, 72, 58, 58, 60, 63, 54, 58, 60, ...</td>\n",
              "      <td>Training</td>\n",
              "    </tr>\n",
              "    <tr>\n",
              "      <th>1</th>\n",
              "      <td>0</td>\n",
              "      <td>[[151, 150, 147, 155, 148, 133, 111, 140, 170,...</td>\n",
              "      <td>Training</td>\n",
              "    </tr>\n",
              "    <tr>\n",
              "      <th>2</th>\n",
              "      <td>2</td>\n",
              "      <td>[[231, 212, 156, 164, 174, 138, 161, 173, 182,...</td>\n",
              "      <td>Training</td>\n",
              "    </tr>\n",
              "    <tr>\n",
              "      <th>3</th>\n",
              "      <td>4</td>\n",
              "      <td>[[24, 32, 36, 30, 32, 23, 19, 20, 30, 41, 21, ...</td>\n",
              "      <td>Training</td>\n",
              "    </tr>\n",
              "    <tr>\n",
              "      <th>4</th>\n",
              "      <td>6</td>\n",
              "      <td>[[4, 0, 0, 0, 0, 0, 0, 0, 0, 0, 0, 0, 3, 15, 2...</td>\n",
              "      <td>Training</td>\n",
              "    </tr>\n",
              "  </tbody>\n",
              "</table>\n",
              "</div>"
            ],
            "text/plain": [
              "   emotion                                             pixels     Usage\n",
              "0        0  [[70, 80, 82, 72, 58, 58, 60, 63, 54, 58, 60, ...  Training\n",
              "1        0  [[151, 150, 147, 155, 148, 133, 111, 140, 170,...  Training\n",
              "2        2  [[231, 212, 156, 164, 174, 138, 161, 173, 182,...  Training\n",
              "3        4  [[24, 32, 36, 30, 32, 23, 19, 20, 30, 41, 21, ...  Training\n",
              "4        6  [[4, 0, 0, 0, 0, 0, 0, 0, 0, 0, 0, 0, 3, 15, 2...  Training"
            ]
          },
          "metadata": {
            "tags": []
          },
          "execution_count": 23
        }
      ]
    },
    {
      "cell_type": "code",
      "metadata": {
        "id": "eoRACWKuwObF",
        "outputId": "6704a77b-4ee6-4a32-c9ca-0e92cf0ef5d5",
        "colab": {
          "base_uri": "https://localhost:8080/",
          "height": 418
        }
      },
      "source": [
        "def augment_data(input_df):\n",
        "  \"\"\"\n",
        "  Takes a dataframe with columns 'emotion' and 'pixels' as input and returns a\n",
        "  new dataframe with original and flipped images\n",
        "  \"\"\"\n",
        "  flipped_df = input_df.copy()\n",
        "  flipped_df[\"pixels\"] = flipped_df[\"pixels\"].apply(lambda pix: cv.flip(np.copy(pix), 1))\n",
        "  return pd.concat([input_df, flipped_df], ignore_index=True)\n",
        "first_img_df = train_df.iloc[[0, 1, 2, 3], :]\n",
        "augmented_example = augment_data(first_img_df)\n",
        "print(\"example of generated variations:\")\n",
        "for pix in augmented_example[\"pixels\"]:\n",
        "  cv2_imshow(pix)"
      ],
      "execution_count": null,
      "outputs": [
        {
          "output_type": "stream",
          "text": [
            "example of generated variations:\n"
          ],
          "name": "stdout"
        },
        {
          "output_type": "display_data",
          "data": {
            "image/png": "[encoded data removed]",
            "text/plain": [
              "<PIL.Image.Image image mode=L size=48x48 at 0x7F0B4C8B1A20>"
            ]
          },
          "metadata": {
            "tags": []
          }
        },
        {
          "output_type": "display_data",
          "data": {
            "image/png": "[encoded data removed]",
            "text/plain": [
              "<PIL.Image.Image image mode=L size=48x48 at 0x7F0B4C8B1828>"
            ]
          },
          "metadata": {
            "tags": []
          }
        },
        {
          "output_type": "display_data",
          "data": {
            "image/png": "[encoded data removed]",
            "text/plain": [
              "<PIL.Image.Image image mode=L size=48x48 at 0x7F0B4C8B1A20>"
            ]
          },
          "metadata": {
            "tags": []
          }
        },
        {
          "output_type": "display_data",
          "data": {
            "image/png": "[encoded data removed]",
            "text/plain": [
              "<PIL.Image.Image image mode=L size=48x48 at 0x7F0B4C8B1BE0>"
            ]
          },
          "metadata": {
            "tags": []
          }
        },
        {
          "output_type": "display_data",
          "data": {
            "image/png": "[encoded data removed]",
            "text/plain": [
              "<PIL.Image.Image image mode=L size=48x48 at 0x7F0B4C8B1828>"
            ]
          },
          "metadata": {
            "tags": []
          }
        },
        {
          "output_type": "display_data",
          "data": {
            "image/png": "[encoded data removed]",
            "text/plain": [
              "<PIL.Image.Image image mode=L size=48x48 at 0x7F0B4C8B1BE0>"
            ]
          },
          "metadata": {
            "tags": []
          }
        },
        {
          "output_type": "display_data",
          "data": {
            "image/png": "[encoded data removed]",
            "text/plain": [
              "<PIL.Image.Image image mode=L size=48x48 at 0x7F0B4C8B1A20>"
            ]
          },
          "metadata": {
            "tags": []
          }
        },
        {
          "output_type": "display_data",
          "data": {
            "image/png": "[encoded data removed]",
            "text/plain": [
              "<PIL.Image.Image image mode=L size=48x48 at 0x7F0B4C8B1828>"
            ]
          },
          "metadata": {
            "tags": []
          }
        }
      ]
    },
    {
      "cell_type": "code",
      "metadata": {
        "id": "WB4ubz2GE7Ak"
      },
      "source": [
        "import pkg_resources\n",
        "haar_xml = pkg_resources.resource_filename(\n",
        "    'cv2', 'data/haarcascade_frontalface_default.xml')\n",
        "haar_eye_xml = pkg_resources.resource_filename(\n",
        "    'cv2', 'data/haarcascade_eye.xml')\n",
        "i = 0\n",
        "face_detector = cv.CascadeClassifier(haar_xml)\n",
        "eye_detector = cv.CascadeClassifier(haar_eye_xml)\n",
        "\n",
        "def crop_face(pixels, param):\n",
        "  faces = face_detector.detectMultiScale(pixels, param)\n",
        "  if len(faces) == 0:\n",
        "    return pixels, False\n",
        "\n",
        "  face_x, face_y, face_w, face_h = faces[0]\n",
        "  return pixels[int(face_y):int(face_y+face_h), int(face_x):int(face_x+face_w)], True\n",
        "\n",
        "def align_face(orig_pixels, param):\n",
        "  global i\n",
        "  i += 1\n",
        "  if i % 100 == 0:\n",
        "    print(f\"progress: {i}\")\n",
        "  pixels = np.copy(orig_pixels)\n",
        "  eyes = eye_detector.detectMultiScale(pixels, param)\n",
        "  if len(eyes) < 2:\n",
        "    return pixels, False\n",
        "\n",
        "  eye_1 = eyes[0]\n",
        "  eye_2 = eyes[1]\n",
        "\n",
        "  if eye_1[0] < eye_2[0]:\n",
        "   left_eye = eye_1\n",
        "   right_eye = eye_2\n",
        "  else:\n",
        "   left_eye = eye_2\n",
        "   right_eye = eye_1\n",
        "  left_eye_center = (int(left_eye[0] + (left_eye[2] / 2)), int(left_eye[1] + (left_eye[3] / 2)))\n",
        "  left_eye_x = left_eye_center[0]; left_eye_y = left_eye_center[1]\n",
        " \n",
        "  right_eye_center = (int(right_eye[0] + (right_eye[2]/2)), int(right_eye[1] + (right_eye[3]/2)))\n",
        "  right_eye_x = right_eye_center[0]; right_eye_y = right_eye_center[1]\n",
        "  # compute the angle between the eye centroids\n",
        "  dY = right_eye_center[1] - left_eye_center[1]\n",
        "  dX = right_eye_center[0] - left_eye_center[0]\n",
        "  angle = np.degrees(np.arctan2(dY, dX))\n",
        "  # print(f\"dY: {dY}, dX: {dX}, angle: {angle}\")\n",
        "  # cv.circle(pixels, left_eye_center, 2, (255, 0, 0) , 2)\n",
        "  # cv.circle(pixels, right_eye_center, 2, (255, 0, 0) , 2)\n",
        "  # cv.line(pixels,right_eye_center, left_eye_center,(67,67,67),2)\n",
        "  # cv2_imshow(pixels)\n",
        "  # compute center (x, y)-coordinates (i.e., the median point)\n",
        "  # between the two eyes in the input image\n",
        "  eyesCenter = ((left_eye_center[0] + right_eye_center[0]) // 2,\n",
        "      (left_eye_center[1] + right_eye_center[1]) // 2)\n",
        "  \n",
        "  # grab the rotation matrix for rotating and scaling the face\n",
        "  M = cv.getRotationMatrix2D(eyesCenter, angle, 1)\n",
        "\n",
        "  return cv.warpAffine(pixels, M, (len(orig_pixels), len(orig_pixels[0])), flags=cv.INTER_CUBIC), True"
      ],
      "execution_count": null,
      "outputs": []
    },
    {
      "cell_type": "code",
      "metadata": {
        "id": "z-68s5k1gX8Z"
      },
      "source": [
        "# best_faces = 0\n",
        "# best_faces_eyes = 0\n",
        "# best_eyes = 0\n",
        "# best_eyes_faces = 0\n",
        "# best_faces_params = None\n",
        "# best_eyes_params = None\n",
        "# for initial_img_size in ([256]):\n",
        "#   for crop_to_face_first in (False, True):\n",
        "#     for rate in (1.01, 1.03):\n",
        "#       faces = 0\n",
        "#       eyes = 0\n",
        "#       for p in augmented_train_df[\"pixels\"]:\n",
        "#         p = cv.resize(p, (initial_img_size, initial_img_size))\n",
        "#         p = cv.equalizeHist(p)\n",
        "#         if crop_to_face_first:\n",
        "#           p, did_crop = crop_face(p, rate)\n",
        "#           if did_crop:\n",
        "#             p = cv.resize(p, (initial_img_size, initial_img_size))\n",
        "#             faces += 1\n",
        "#         p, did_align = align_face(p, rate)\n",
        "#         if did_align:\n",
        "#           eyes += 1\n",
        "#         if not crop_to_face_first:\n",
        "#           p, did_crop = crop_face(p, rate)\n",
        "#           if did_crop:\n",
        "#             p = cv.resize(p, (initial_img_size, initial_img_size))\n",
        "#             faces += 1\n",
        "#       params = f\"{initial_img_size}, {crop_to_face_first}, {rate}\"\n",
        "#       if faces > best_faces:\n",
        "#         best_faces = faces\n",
        "#         best_faces_eyes = eyes\n",
        "#         best_faces_params = params\n",
        "#       if eyes > best_eyes:\n",
        "#         best_eyes = eyes\n",
        "#         best_eyes_faces = faces\n",
        "#         best_eyes_params = params\n",
        "#       print(f\"{params}: eyes: {eyes}/{len(augmented_train_df)}, faces: {faces}/{len(augmented_train_df)}\")\n",
        "# print(f\"best: faces {best_faces}/{len(augmented_train_df)}, eyes {best_faces_eyes} with params {best_faces_params}\")\n",
        "# print(f\"best: eyes {best_eyes}/{len(augmented_train_df)}, faces {best_eyes_faces} with params {best_eyes_params}\")"
      ],
      "execution_count": null,
      "outputs": []
    },
    {
      "cell_type": "code",
      "metadata": {
        "id": "GK81AlGG94-k",
        "outputId": "fb075211-1703-48b3-d386-8e1846370ca2",
        "colab": {
          "base_uri": "https://localhost:8080/",
          "height": 1000
        }
      },
      "source": [
        "num_faces_aligned = 0\n",
        "num_faces_cropped = 0\n",
        "\n",
        "def preprocess_single_img(orig_pixels, crop_first = False):\n",
        "  # first blow up image to make eye detection better\n",
        "  # pixels = cv.resize(orig_pixels, (96, 96))\n",
        "  # # histogram equalization\n",
        "  pixels = cv.equalizeHist(orig_pixels)\n",
        "  # if crop_first:\n",
        "  #   pixels, was_cropped = crop_face(pixels, 1.02)\n",
        "  #   pixels = cv.resize(pixels, (96, 96))\n",
        "\n",
        "  # pixels, was_aligned = align_face(pixels, 1.02)\n",
        "\n",
        "  # if not crop_first:\n",
        "  #   pixels, was_cropped = crop_face(pixels, 1.02)\n",
        "  \n",
        "  # pixels = cv.resize(pixels, (48, 48))\n",
        "\n",
        "  # if was_aligned:\n",
        "  #   global num_faces_aligned\n",
        "  #   num_faces_aligned += 1\n",
        "  # if was_cropped:\n",
        "  #   global num_faces_cropped\n",
        "  #   num_faces_cropped += 1\n",
        "  return pixels\n",
        "\n",
        "for i in range(10):\n",
        "  cv2_imshow(train_df['pixels'][i])\n",
        "  cv2_imshow(preprocess_single_img(train_df['pixels'][i]))\n",
        "  cv2_imshow(preprocess_single_img(train_df['pixels'][i], True))"
      ],
      "execution_count": null,
      "outputs": [
        {
          "output_type": "display_data",
          "data": {
            "image/png": "[encoded data removed]",
            "text/plain": [
              "<PIL.Image.Image image mode=L size=48x48 at 0x7F0B4C8AE0F0>"
            ]
          },
          "metadata": {
            "tags": []
          }
        },
        {
          "output_type": "display_data",
          "data": {
            "image/png": "[encoded data removed]",
            "text/plain": [
              "<PIL.Image.Image image mode=L size=48x48 at 0x7F0B4C8AE5C0>"
            ]
          },
          "metadata": {
            "tags": []
          }
        },
        {
          "output_type": "display_data",
          "data": {
            "image/png": "[encoded data removed]",
            "text/plain": [
              "<PIL.Image.Image image mode=L size=48x48 at 0x7F0B4C8AEE48>"
            ]
          },
          "metadata": {
            "tags": []
          }
        },
        {
          "output_type": "display_data",
          "data": {
            "image/png": "[encoded data removed]",
            "text/plain": [
              "<PIL.Image.Image image mode=L size=48x48 at 0x7F0B4C8AE0F0>"
            ]
          },
          "metadata": {
            "tags": []
          }
        },
        {
          "output_type": "display_data",
          "data": {
            "image/png": "[encoded data removed]",
            "text/plain": [
              "<PIL.Image.Image image mode=L size=48x48 at 0x7F0B4C8AE5C0>"
            ]
          },
          "metadata": {
            "tags": []
          }
        },
        {
          "output_type": "display_data",
          "data": {
            "image/png": "[encoded data removed]",
            "text/plain": [
              "<PIL.Image.Image image mode=L size=48x48 at 0x7F0B4C8AE1D0>"
            ]
          },
          "metadata": {
            "tags": []
          }
        },
        {
          "output_type": "display_data",
          "data": {
            "image/png": "[encoded data removed]",
            "text/plain": [
              "<PIL.Image.Image image mode=L size=48x48 at 0x7F0B4C8AEE48>"
            ]
          },
          "metadata": {
            "tags": []
          }
        },
        {
          "output_type": "display_data",
          "data": {
            "image/png": "[encoded data removed]",
            "text/plain": [
              "<PIL.Image.Image image mode=L size=48x48 at 0x7F0B4C8AE5C0>"
            ]
          },
          "metadata": {
            "tags": []
          }
        },
        {
          "output_type": "display_data",
          "data": {
            "image/png": "[encoded data removed]",
            "text/plain": [
              "<PIL.Image.Image image mode=L size=48x48 at 0x7F0B4C8AEB70>"
            ]
          },
          "metadata": {
            "tags": []
          }
        },
        {
          "output_type": "display_data",
          "data": {
            "image/png": "[encoded data removed]",
            "text/plain": [
              "<PIL.Image.Image image mode=L size=48x48 at 0x7F0B4C8AE1D0>"
            ]
          },
          "metadata": {
            "tags": []
          }
        },
        {
          "output_type": "display_data",
          "data": {
            "image/png": "[encoded data removed]",
            "text/plain": [
              "<PIL.Image.Image image mode=L size=48x48 at 0x7F0B4C8AE0F0>"
            ]
          },
          "metadata": {
            "tags": []
          }
        },
        {
          "output_type": "display_data",
          "data": {
            "image/png": "[encoded data removed]",
            "text/plain": [
              "<PIL.Image.Image image mode=L size=48x48 at 0x7F0B4C8AEE48>"
            ]
          },
          "metadata": {
            "tags": []
          }
        },
        {
          "output_type": "display_data",
          "data": {
            "image/png": "[encoded data removed]",
            "text/plain": [
              "<PIL.Image.Image image mode=L size=48x48 at 0x7F0B4C8AEE48>"
            ]
          },
          "metadata": {
            "tags": []
          }
        },
        {
          "output_type": "display_data",
          "data": {
            "image/png": "[encoded data removed]",
            "text/plain": [
              "<PIL.Image.Image image mode=L size=48x48 at 0x7F0B4C8AE0F0>"
            ]
          },
          "metadata": {
            "tags": []
          }
        },
        {
          "output_type": "display_data",
          "data": {
            "image/png": "[encoded data removed]",
            "text/plain": [
              "<PIL.Image.Image image mode=L size=48x48 at 0x7F0B4C8AE0F0>"
            ]
          },
          "metadata": {
            "tags": []
          }
        },
        {
          "output_type": "display_data",
          "data": {
            "image/png": "[encoded data removed]",
            "text/plain": [
              "<PIL.Image.Image image mode=L size=48x48 at 0x7F0B4C8AE0F0>"
            ]
          },
          "metadata": {
            "tags": []
          }
        },
        {
          "output_type": "display_data",
          "data": {
            "image/png": "[encoded data removed]",
            "text/plain": [
              "<PIL.Image.Image image mode=L size=48x48 at 0x7F0B4C8AE0F0>"
            ]
          },
          "metadata": {
            "tags": []
          }
        },
        {
          "output_type": "display_data",
          "data": {
            "image/png": "[encoded data removed]",
            "text/plain": [
              "<PIL.Image.Image image mode=L size=48x48 at 0x7F0B4C8AE0F0>"
            ]
          },
          "metadata": {
            "tags": []
          }
        },
        {
          "output_type": "display_data",
          "data": {
            "image/png": "[encoded data removed]",
            "text/plain": [
              "<PIL.Image.Image image mode=L size=48x48 at 0x7F0B4C8AE0F0>"
            ]
          },
          "metadata": {
            "tags": []
          }
        },
        {
          "output_type": "display_data",
          "data": {
            "image/png": "[encoded data removed]",
            "text/plain": [
              "<PIL.Image.Image image mode=L size=48x48 at 0x7F0B4C8AE0F0>"
            ]
          },
          "metadata": {
            "tags": []
          }
        },
        {
          "output_type": "display_data",
          "data": {
            "image/png": "[encoded data removed]",
            "text/plain": [
              "<PIL.Image.Image image mode=L size=48x48 at 0x7F0B4C8AE0F0>"
            ]
          },
          "metadata": {
            "tags": []
          }
        },
        {
          "output_type": "display_data",
          "data": {
            "image/png": "[encoded data removed]",
            "text/plain": [
              "<PIL.Image.Image image mode=L size=48x48 at 0x7F0B4C8AE0F0>"
            ]
          },
          "metadata": {
            "tags": []
          }
        },
        {
          "output_type": "display_data",
          "data": {
            "image/png": "[encoded data removed]",
            "text/plain": [
              "<PIL.Image.Image image mode=L size=48x48 at 0x7F0B4C8AE0F0>"
            ]
          },
          "metadata": {
            "tags": []
          }
        },
        {
          "output_type": "display_data",
          "data": {
            "image/png": "[encoded data removed]",
            "text/plain": [
              "<PIL.Image.Image image mode=L size=48x48 at 0x7F0B4C8AE0F0>"
            ]
          },
          "metadata": {
            "tags": []
          }
        },
        {
          "output_type": "display_data",
          "data": {
            "image/png": "[encoded data removed]",
            "text/plain": [
              "<PIL.Image.Image image mode=L size=48x48 at 0x7F0B4C8AE0F0>"
            ]
          },
          "metadata": {
            "tags": []
          }
        },
        {
          "output_type": "display_data",
          "data": {
            "image/png": "[encoded data removed]",
            "text/plain": [
              "<PIL.Image.Image image mode=L size=48x48 at 0x7F0B4C8AE0F0>"
            ]
          },
          "metadata": {
            "tags": []
          }
        },
        {
          "output_type": "display_data",
          "data": {
            "image/png": "[encoded data removed]",
            "text/plain": [
              "<PIL.Image.Image image mode=L size=48x48 at 0x7F0B4C8AE0F0>"
            ]
          },
          "metadata": {
            "tags": []
          }
        },
        {
          "output_type": "display_data",
          "data": {
            "image/png": "[encoded data removed]",
            "text/plain": [
              "<PIL.Image.Image image mode=L size=48x48 at 0x7F0B4C8AE0F0>"
            ]
          },
          "metadata": {
            "tags": []
          }
        },
        {
          "output_type": "display_data",
          "data": {
            "image/png": "[encoded data removed]",
            "text/plain": [
              "<PIL.Image.Image image mode=L size=48x48 at 0x7F0B4C8AE0F0>"
            ]
          },
          "metadata": {
            "tags": []
          }
        },
        {
          "output_type": "display_data",
          "data": {
            "image/png": "[encoded data removed]",
            "text/plain": [
              "<PIL.Image.Image image mode=L size=48x48 at 0x7F0B4C8AE0F0>"
            ]
          },
          "metadata": {
            "tags": []
          }
        }
      ]
    },
    {
      "cell_type": "code",
      "metadata": {
        "id": "beiTFPhB_tkC"
      },
      "source": [
        "val_df = all_data[all_data.Usage == 'PublicTest'].copy()\n",
        "test_df = all_data[all_data.Usage == 'PrivateTest'].copy()\n",
        "for df, label in ((train_df, \"train\"), (val_df, \"validation\"), (test_df, \"testing\")):\n",
        "  num_faces_aligned = 0\n",
        "  num_faces_cropped = 0\n",
        "  i = 0\n",
        "  df[\"pixels\"] = df[\"pixels\"].apply(preprocess_single_img)\n",
        "  # print(f\"Aligned {num_faces_aligned} and cropped {num_faces_cropped} out of {len(df)} from {label} set\")"
      ],
      "execution_count": null,
      "outputs": []
    },
    {
      "cell_type": "code",
      "metadata": {
        "id": "2E-XgDM42IWk",
        "outputId": "6ee37df7-343a-4727-eda9-8ddc20657750",
        "colab": {
          "base_uri": "https://localhost:8080/"
        }
      },
      "source": [
        "augmented_train_df = augment_data(train_df)\n",
        "print(f\"Augmented training data from {len(train_df)} to {len(augmented_train_df)} examples\")"
      ],
      "execution_count": null,
      "outputs": [
        {
          "output_type": "stream",
          "text": [
            "Augmented training data from 28709 to 57418 examples\n"
          ],
          "name": "stdout"
        }
      ]
    },
    {
      "cell_type": "code",
      "metadata": {
        "id": "VRqhSAX3OBHn"
      },
      "source": [
        "# !mkdir \"/content/drive/My Drive/4A/CS486 Project/preprocessed_data/\"\n",
        "def save_to_files(df, prefix):\n",
        "  X = df[\"pixels\"].to_numpy()\n",
        "  Y = pd.get_dummies(df['emotion']).values\n",
        "  np.save(f\"{full_project_dir}/preprocessed_data/{prefix}_X\", X)\n",
        "  np.save(f\"{full_project_dir}/preprocessed_data/{prefix}_Y\", Y)\n",
        "\n",
        "save_to_files(augmented_train_df, \"fer2013_train\")\n",
        "save_to_files(val_df, \"fer2013_val\")\n",
        "save_to_files(test_df, \"fer2013_test\")"
      ],
      "execution_count": null,
      "outputs": []
    },
    {
      "cell_type": "code",
      "metadata": {
        "id": "UG3kAwoNWiu_",
        "outputId": "81ba3ebd-9ac6-42ef-dda9-a7b13fafa2c0",
        "colab": {
          "base_uri": "https://localhost:8080/",
          "height": 673
        }
      },
      "source": [
        "# example on how to load images from files\n",
        "train_X = np.load(f\"{full_project_dir}/preprocessed_data/fer2013_train_X.npy\", allow_pickle=True)\n",
        "train_Y = np.load(f\"{full_project_dir}/preprocessed_data/fer2013_train_Y.npy\", allow_pickle=True)\n",
        "\n",
        "emotions = [\"Angry\", \"Disgust\", \"Fear\", \"Happy\", \"Sad\", \"Surprise\", \"Neutral\"]\n",
        "for i in range(10):\n",
        "  cv2_imshow(train_X[i])\n",
        "  print(emotions[np.where(train_Y[i]==1)[0][0]])"
      ],
      "execution_count": null,
      "outputs": [
        {
          "output_type": "display_data",
          "data": {
            "image/png": "[encoded data removed]",
            "text/plain": [
              "<PIL.Image.Image image mode=L size=48x48 at 0x7F0B86C8DA90>"
            ]
          },
          "metadata": {
            "tags": []
          }
        },
        {
          "output_type": "stream",
          "text": [
            "Angry\n"
          ],
          "name": "stdout"
        },
        {
          "output_type": "display_data",
          "data": {
            "image/png": "[encoded data removed]",
            "text/plain": [
              "<PIL.Image.Image image mode=L size=48x48 at 0x7F0B891697B8>"
            ]
          },
          "metadata": {
            "tags": []
          }
        },
        {
          "output_type": "stream",
          "text": [
            "Angry\n"
          ],
          "name": "stdout"
        },
        {
          "output_type": "display_data",
          "data": {
            "image/png": "[encoded data removed]",
            "text/plain": [
              "<PIL.Image.Image image mode=L size=48x48 at 0x7F0B86C8DA90>"
            ]
          },
          "metadata": {
            "tags": []
          }
        },
        {
          "output_type": "stream",
          "text": [
            "Fear\n"
          ],
          "name": "stdout"
        },
        {
          "output_type": "display_data",
          "data": {
            "image/png": "[encoded data removed]",
            "text/plain": [
              "<PIL.Image.Image image mode=L size=48x48 at 0x7F0B4C90CE10>"
            ]
          },
          "metadata": {
            "tags": []
          }
        },
        {
          "output_type": "stream",
          "text": [
            "Sad\n"
          ],
          "name": "stdout"
        },
        {
          "output_type": "display_data",
          "data": {
            "image/png": "[encoded data removed]",
            "text/plain": [
              "<PIL.Image.Image image mode=L size=48x48 at 0x7F0B4C90CDA0>"
            ]
          },
          "metadata": {
            "tags": []
          }
        },
        {
          "output_type": "stream",
          "text": [
            "Neutral\n"
          ],
          "name": "stdout"
        },
        {
          "output_type": "display_data",
          "data": {
            "image/png": "[encoded data removed]",
            "text/plain": [
              "<PIL.Image.Image image mode=L size=48x48 at 0x7F0B4C90CDA0>"
            ]
          },
          "metadata": {
            "tags": []
          }
        },
        {
          "output_type": "stream",
          "text": [
            "Fear\n"
          ],
          "name": "stdout"
        },
        {
          "output_type": "display_data",
          "data": {
            "image/png": "[encoded data removed]",
            "text/plain": [
              "<PIL.Image.Image image mode=L size=48x48 at 0x7F0B4C90CDA0>"
            ]
          },
          "metadata": {
            "tags": []
          }
        },
        {
          "output_type": "stream",
          "text": [
            "Sad\n"
          ],
          "name": "stdout"
        },
        {
          "output_type": "display_data",
          "data": {
            "image/png": "[encoded data removed]",
            "text/plain": [
              "<PIL.Image.Image image mode=L size=48x48 at 0x7F0B4C90CD30>"
            ]
          },
          "metadata": {
            "tags": []
          }
        },
        {
          "output_type": "stream",
          "text": [
            "Happy\n"
          ],
          "name": "stdout"
        },
        {
          "output_type": "display_data",
          "data": {
            "image/png": "[encoded data removed]",
            "text/plain": [
              "<PIL.Image.Image image mode=L size=48x48 at 0x7F0B4C90CD30>"
            ]
          },
          "metadata": {
            "tags": []
          }
        },
        {
          "output_type": "stream",
          "text": [
            "Happy\n"
          ],
          "name": "stdout"
        },
        {
          "output_type": "display_data",
          "data": {
            "image/png": "[encoded data removed]",
            "text/plain": [
              "<PIL.Image.Image image mode=L size=48x48 at 0x7F0B4C90CDA0>"
            ]
          },
          "metadata": {
            "tags": []
          }
        },
        {
          "output_type": "stream",
          "text": [
            "Fear\n"
          ],
          "name": "stdout"
        }
      ]
    },
    {
      "cell_type": "code",
      "metadata": {
        "id": "augiFlvoT7Y0",
        "outputId": "d9828df4-7836-4800-e2e8-b967a2d1bb94",
        "colab": {
          "base_uri": "https://localhost:8080/"
        }
      },
      "source": [
        "drive.flush_and_unmount()\n",
        "print('All changes made in this colab session should now be visible in Drive.')"
      ],
      "execution_count": null,
      "outputs": [
        {
          "output_type": "stream",
          "text": [
            "All changes made in this colab session should now be visible in Drive.\n"
          ],
          "name": "stdout"
        }
      ]
    }
  ]
}