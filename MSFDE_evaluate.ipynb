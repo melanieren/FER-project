{
  "nbformat": 4,
  "nbformat_minor": 0,
  "metadata": {
    "colab": {
      "name": "MSFDE_evaluate.ipynb",
      "provenance": [],
      "collapsed_sections": []
    },
    "kernelspec": {
      "name": "python3",
      "display_name": "Python 3"
    }
  },
  "cells": [
    {
      "cell_type": "code",
      "metadata": {
        "id": "PRLF6-X2JwVG"
      },
      "source": [
        "from google.colab import drive\n",
        "import pandas as pd\n",
        "import numpy as np\n",
        "import cv2 as cv\n",
        "import os\n",
        "from google.colab.patches import cv2_imshow\n",
        "\n",
        "import tensorflow as tf\n",
        "from tensorflow.keras import models\n",
        "from tensorflow.keras.utils import to_categorical\n",
        "from tensorflow.keras.models import load_model"
      ],
      "execution_count": 78,
      "outputs": []
    },
    {
      "cell_type": "code",
      "metadata": {
        "id": "4EwZ1TY6LMOl",
        "outputId": "b9bac033-bc1e-45bd-b8ff-047012a7e0eb",
        "colab": {
          "base_uri": "https://localhost:8080/"
        }
      },
      "source": [
        "drive.mount('/content/drive')\n",
        "#@title fer2013 csv\n",
        "shared_project_base_dir = 'My Drive/4A/CS486 Project' #@param {type:\"string\"}\n",
        "full_project_dir = f\"/content/drive/{shared_project_base_dir}\"\n",
        "data_dir = f\"{full_project_dir}/preprocessed_data\""
      ],
      "execution_count": 79,
      "outputs": [
        {
          "output_type": "stream",
          "text": [
            "Drive already mounted at /content/drive; to attempt to forcibly remount, call drive.mount(\"/content/drive\", force_remount=True).\n"
          ],
          "name": "stdout"
        }
      ]
    },
    {
      "cell_type": "code",
      "metadata": {
        "id": "I-CqY7l_REEI"
      },
      "source": [
        "emotion_labels = [\"Angry\", \"Disgust\", \"Fear\", \"Happy\", \"Sad\", \"Surprise\", \"Neutral\"]"
      ],
      "execution_count": 80,
      "outputs": []
    },
    {
      "cell_type": "code",
      "metadata": {
        "id": "Jf25CJ93M8D7"
      },
      "source": [
        "simple_cnn_model = load_model(f\"{full_project_dir}/Simple CNN/best_simple_CNN\")"
      ],
      "execution_count": 81,
      "outputs": []
    },
    {
      "cell_type": "code",
      "metadata": {
        "id": "HTMP0qskOlkc"
      },
      "source": [
        "import random\n",
        "def get_emotion_indices(predictions):\n",
        "  emotions = []\n",
        "  replaced = 0\n",
        "  for label_likelyhoods in predictions:\n",
        "    label_likelyhoods_and_emotion = [(val, i) for i, val in enumerate(label_likelyhoods)]\n",
        "    label_likelyhoods_and_emotion.sort()\n",
        "    most_likely_emotion = label_likelyhoods_and_emotion[-1][1]\n",
        "    if most_likely_emotion == emotion_labels.index(\"Surprise\"):\n",
        "      # pick second most likely\n",
        "      # random sample from those which have equal scores:\n",
        "      second_most_likely_candidates = []\n",
        "      second_most_likely_score = label_likelyhoods_and_emotion[-2][0]\n",
        "      for score, emotion in label_likelyhoods_and_emotion[:-1]:\n",
        "        if score == second_most_likely_score:\n",
        "          second_most_likely_candidates.append(emotion)\n",
        "      most_likely_emotion = random.choice(second_most_likely_candidates)\n",
        "      print(f\"replacing surprise with {emotion_labels[most_likely_emotion]}, score: {second_most_likely_score}\")\n",
        "      replaced += 1\n",
        "    emotions.append(most_likely_emotion)\n",
        "  print(f\"Replaced {replaced}/{len(predictions)}\")\n",
        "  return emotions"
      ],
      "execution_count": 83,
      "outputs": []
    },
    {
      "cell_type": "code",
      "metadata": {
        "id": "yUHi1LoqLJCe"
      },
      "source": [
        "def get_race_X_Y(race):\n",
        "  return np.load(f\"{data_dir}/msfde_{race}_X.npy\", allow_pickle=True), np.load(f\"{data_dir}/msfde_{race}_Y.npy\", allow_pickle=True)"
      ],
      "execution_count": 85,
      "outputs": []
    },
    {
      "cell_type": "code",
      "metadata": {
        "id": "8tX94edGpOXp"
      },
      "source": [
        "def show_predictions_plot(predictions):\n",
        "  predictions_series = pd.Series([emotion_labels[i] for i in predictions])\n",
        "  predictions_series = predictions_series.value_counts().sort_index()\n",
        "  print(predictions_series)\n",
        "  ax = predictions_series.plot(kind='bar')\n",
        "  fig = ax.get_figure()\n",
        "  fig.autofmt_xdate()\n",
        "  fig.show()\n",
        "\n",
        "def get_accuracy(prediction_y, actual_y):\n",
        "  return np.mean(np.array(prediction_y) == np.array(actual_y))"
      ],
      "execution_count": 100,
      "outputs": []
    },
    {
      "cell_type": "code",
      "metadata": {
        "id": "QUdguLx0RjOz",
        "outputId": "5d9e9e3f-33fe-409d-a9fd-832c3bda801f",
        "colab": {
          "base_uri": "https://localhost:8080/",
          "height": 965
        }
      },
      "source": [
        "african_X, african_Y = get_race_X_Y(\"African\")\n",
        "african_preds = get_emotion_indices(simple_cnn_model(african_X))\n",
        "# print(african_Y, african_preds)\n",
        "show_predictions_plot(african_preds)\n",
        "# show_predictions_plot(african_Y)\n",
        "print(f\"African SimpleCNN Accuracy: {get_accuracy(african_preds, african_Y)}\")"
      ],
      "execution_count": 101,
      "outputs": [
        {
          "output_type": "stream",
          "text": [
            "replacing surprise with Fear, score: 6.090066930595913e-24\n",
            "replacing surprise with Fear, score: 1.6001815761004825e-35\n",
            "replacing surprise with Disgust, score: 0.0\n",
            "replacing surprise with Fear, score: 0.0002367217093706131\n",
            "replacing surprise with Angry, score: 0.0\n",
            "replacing surprise with Happy, score: 0.0\n",
            "replacing surprise with Fear, score: 3.1705299347662454e-18\n",
            "replacing surprise with Neutral, score: 0.050995439291000366\n",
            "replacing surprise with Fear, score: 0.16729092597961426\n",
            "replacing surprise with Fear, score: 0.0\n",
            "replacing surprise with Fear, score: 4.270441422704607e-08\n",
            "replacing surprise with Neutral, score: 0.0\n",
            "replacing surprise with Neutral, score: 0.0\n",
            "replacing surprise with Angry, score: 0.0\n",
            "replacing surprise with Fear, score: 0.0\n",
            "replacing surprise with Neutral, score: 0.0\n",
            "replacing surprise with Sad, score: 0.0\n",
            "replacing surprise with Fear, score: 0.0\n",
            "replacing surprise with Sad, score: 0.0\n",
            "replacing surprise with Fear, score: 0.0\n",
            "replacing surprise with Disgust, score: 0.0\n",
            "replacing surprise with Neutral, score: 0.0\n",
            "replacing surprise with Neutral, score: 0.0\n",
            "replacing surprise with Fear, score: 1.2439099065346087e-27\n",
            "replacing surprise with Neutral, score: 0.0\n",
            "replacing surprise with Angry, score: 0.0\n",
            "replacing surprise with Fear, score: 0.0\n",
            "replacing surprise with Disgust, score: 0.0\n",
            "replacing surprise with Fear, score: 0.0\n",
            "replacing surprise with Happy, score: 0.0\n",
            "replacing surprise with Disgust, score: 0.0\n",
            "Replaced 31/48\n",
            "Angry       4\n",
            "Disgust     4\n",
            "Fear       20\n",
            "Happy      11\n",
            "Neutral     7\n",
            "Sad         2\n",
            "dtype: int64\n",
            "African SimpleCNN Accuracy: 0.20833333333333334\n"
          ],
          "name": "stdout"
        },
        {
          "output_type": "display_data",
          "data": {
            "image/png": "[encoded data removed]",
            "text/plain": [
              "<Figure size 432x288 with 1 Axes>"
            ]
          },
          "metadata": {
            "tags": [],
            "needs_background": "light"
          }
        }
      ]
    },
    {
      "cell_type": "code",
      "metadata": {
        "id": "Twajv388XFcR",
        "outputId": "42f550fd-dd43-4d4f-f9b3-71a84b036dac",
        "colab": {
          "base_uri": "https://localhost:8080/",
          "height": 648
        }
      },
      "source": [
        "asian_X, asian_Y = get_race_X_Y(\"Asian\")\n",
        "asian_preds = get_emotion_indices(simple_cnn_model(asian_X))\n",
        "show_predictions_plot(asian_preds)\n",
        "print(f\"Asian Accuracy: {get_accuracy(asian_preds, asian_Y)}\")"
      ],
      "execution_count": 102,
      "outputs": [
        {
          "output_type": "stream",
          "text": [
            "replacing surprise with Disgust, score: 0.0\n",
            "replacing surprise with Fear, score: 5.692583225748116e-27\n",
            "replacing surprise with Disgust, score: 0.0\n",
            "replacing surprise with Fear, score: 0.0\n",
            "replacing surprise with Sad, score: 0.0\n",
            "replacing surprise with Sad, score: 0.0\n",
            "replacing surprise with Sad, score: 0.0\n",
            "replacing surprise with Fear, score: 0.0\n",
            "replacing surprise with Fear, score: 0.0\n",
            "replacing surprise with Neutral, score: 0.0\n",
            "replacing surprise with Sad, score: 0.0\n",
            "replacing surprise with Sad, score: 0.0\n",
            "replacing surprise with Fear, score: 0.0\n",
            "Replaced 13/48\n",
            "Angry       4\n",
            "Disgust     2\n",
            "Fear       25\n",
            "Happy       6\n",
            "Neutral     2\n",
            "Sad         9\n",
            "dtype: int64\n",
            "Asian Accuracy: 0.16666666666666666\n"
          ],
          "name": "stdout"
        },
        {
          "output_type": "display_data",
          "data": {
            "image/png": "[encoded data removed]",
            "text/plain": [
              "<Figure size 432x288 with 1 Axes>"
            ]
          },
          "metadata": {
            "tags": [],
            "needs_background": "light"
          }
        }
      ]
    },
    {
      "cell_type": "code",
      "metadata": {
        "id": "xf_a1XpsXVxj",
        "outputId": "25a3c747-9178-47ce-99ac-7ebaff17ab25",
        "colab": {
          "base_uri": "https://localhost:8080/",
          "height": 666
        }
      },
      "source": [
        "caucasian_X, caucasian_Y = get_race_X_Y(\"Caucasian\")\n",
        "print(len(caucasian_X))\n",
        "caucasian_preds = get_emotion_indices(simple_cnn_model(caucasian_X))\n",
        "show_predictions_plot(caucasian_preds)\n",
        "print(f\"Caucasian accuracy: {get_accuracy(caucasian_preds, caucasian_Y)}\")"
      ],
      "execution_count": 106,
      "outputs": [
        {
          "output_type": "stream",
          "text": [
            "48\n",
            "replacing surprise with Happy, score: 0.0\n",
            "replacing surprise with Sad, score: 0.0\n",
            "replacing surprise with Fear, score: 5.060996333567729e-22\n",
            "replacing surprise with Disgust, score: 0.0\n",
            "replacing surprise with Fear, score: 0.0\n",
            "replacing surprise with Fear, score: 0.0\n",
            "replacing surprise with Sad, score: 0.0\n",
            "replacing surprise with Disgust, score: 0.0\n",
            "replacing surprise with Fear, score: 0.0\n",
            "replacing surprise with Sad, score: 0.0\n",
            "replacing surprise with Fear, score: 2.9452432510407907e-25\n",
            "replacing surprise with Disgust, score: 0.0\n",
            "replacing surprise with Neutral, score: 0.0\n",
            "Replaced 13/48\n",
            "Angry      13\n",
            "Disgust     3\n",
            "Fear       22\n",
            "Happy       4\n",
            "Neutral     1\n",
            "Sad         5\n",
            "dtype: int64\n",
            "Caucasian accuracy: 0.1875\n"
          ],
          "name": "stdout"
        },
        {
          "output_type": "display_data",
          "data": {
            "image/png": "[encoded data removed]",
            "text/plain": [
              "<Figure size 432x288 with 1 Axes>"
            ]
          },
          "metadata": {
            "tags": [],
            "needs_background": "light"
          }
        }
      ]
    },
    {
      "cell_type": "code",
      "metadata": {
        "id": "OplbWlp4XtMz",
        "outputId": "423e40db-a6ab-4b0c-ec58-50c8dcec90b2",
        "colab": {
          "base_uri": "https://localhost:8080/",
          "height": 419
        }
      },
      "source": [
        "hispanic_X, hispanic_Y = get_race_X_Y(\"Hispanic\")\n",
        "hispanic_preds = get_emotion_indices(simple_cnn_model(hispanic_X))\n",
        "show_predictions_plot(hispanic_preds)\n",
        "print(f\"Hispanic accuracy: {get_accuracy(hispanic_preds, hispanic_Y)}\")"
      ],
      "execution_count": 104,
      "outputs": [
        {
          "output_type": "stream",
          "text": [
            "replacing surprise with Angry, score: 0.0\n",
            "replacing surprise with Fear, score: 8.385454160701847e-24\n",
            "Replaced 2/48\n",
            "Angry       9\n",
            "Fear       32\n",
            "Happy       5\n",
            "Neutral     2\n",
            "dtype: int64\n",
            "Hispanic accuracy: 0.16666666666666666\n"
          ],
          "name": "stdout"
        },
        {
          "output_type": "display_data",
          "data": {
            "image/png": "[encoded data removed]",
            "text/plain": [
              "<Figure size 432x288 with 1 Axes>"
            ]
          },
          "metadata": {
            "tags": [],
            "needs_background": "light"
          }
        }
      ]
    },
    {
      "cell_type": "markdown",
      "metadata": {
        "id": "K7MPafohkCJp"
      },
      "source": [
        "ResNet class"
      ]
    },
    {
      "cell_type": "code",
      "metadata": {
        "id": "JGoknyWtYAkD"
      },
      "source": [
        "import torch\n",
        "from torch import Tensor\n",
        "import torch.nn as nn\n",
        "from torch.hub import load_state_dict_from_url\n",
        "from typing import Type, Any, Callable, Union, List, Optional\n",
        "\n",
        "# Pretrained model URL, not in use\n",
        "pretrained_model_urls = {\n",
        "    'resnet18': 'https://download.pytorch.org/models/resnet18-5c106cde.pth',\n",
        "}\n",
        "\n",
        "\n",
        "class Bottleneck(nn.Module):\n",
        "    # Bottleneck in torchvision places the stride for downsampling at 3x3 convolution(self.conv2)\n",
        "    # while original implementation places the stride at the first 1x1 convolution(self.conv1)\n",
        "    # according to \"Deep residual learning for image recognition\"https://arxiv.org/abs/1512.03385.\n",
        "    # This variant is also known as ResNet V1.5 and improves accuracy according to\n",
        "    # https://ngc.nvidia.com/catalog/model-scripts/nvidia:resnet_50_v1_5_for_pytorch.\n",
        "\n",
        "    expansion: int = 4\n",
        "\n",
        "    def __init__(\n",
        "        self,\n",
        "        inplanes: int,\n",
        "        planes: int,\n",
        "        stride: int = 1,\n",
        "        downsample: Optional[nn.Module] = None,\n",
        "        groups: int = 1,\n",
        "        base_width: int = 64,\n",
        "        dilation: int = 1,\n",
        "        norm_layer: Optional[Callable[..., nn.Module]] = None\n",
        "    ) -> None:\n",
        "        super(Bottleneck, self).__init__()\n",
        "        if norm_layer is None:\n",
        "            norm_layer = nn.BatchNorm2d\n",
        "        width = int(planes * (base_width / 64.)) * groups\n",
        "        # Both self.conv2 and self.downsample layers downsample the input when stride != 1\n",
        "        self.conv1 = conv1x1(inplanes, width)\n",
        "        self.bn1 = norm_layer(width)\n",
        "        self.conv2 = conv3x3(width, width, stride, groups, dilation)\n",
        "        self.bn2 = norm_layer(width)\n",
        "        self.conv3 = conv1x1(width, planes * self.expansion)\n",
        "        self.bn3 = norm_layer(planes * self.expansion)\n",
        "        self.relu = nn.ReLU(inplace=True)\n",
        "        self.downsample = downsample\n",
        "        self.stride = stride\n",
        "\n",
        "    def forward(self, x: Tensor) -> Tensor:\n",
        "        identity = x\n",
        "\n",
        "        out = self.conv1(x)\n",
        "        out = self.bn1(out)\n",
        "        out = self.relu(out)\n",
        "\n",
        "        out = self.conv2(out)\n",
        "        out = self.bn2(out)\n",
        "        out = self.relu(out)\n",
        "\n",
        "        out = self.conv3(out)\n",
        "        out = self.bn3(out)\n",
        "\n",
        "        if self.downsample is not None:\n",
        "            identity = self.downsample(x)\n",
        "\n",
        "        out += identity\n",
        "        out = self.relu(out)\n",
        "\n",
        "        return out\n",
        "\n",
        "def conv3x3(in_planes: int, out_planes: int, stride: int = 1, groups: int = 1, dilation: int = 1) -> nn.Conv2d:\n",
        "    \"\"\"3x3 convolution with padding\"\"\"\n",
        "    return nn.Conv2d(in_planes, out_planes, kernel_size=3, stride=stride,\n",
        "                     padding=dilation, groups=groups, bias=False, dilation=dilation)\n",
        "\n",
        "def conv1x1(in_planes: int, out_planes: int, stride: int = 1) -> nn.Conv2d:\n",
        "    \"\"\"1x1 convolution\"\"\"\n",
        "    return nn.Conv2d(in_planes, out_planes, kernel_size=1, stride=stride, bias=False)\n",
        "\n",
        "\n",
        "class BasicBlock(nn.Module):\n",
        "    expansion: int = 1\n",
        "\n",
        "    def __init__(\n",
        "        self,\n",
        "        inplanes: int,\n",
        "        planes: int,\n",
        "        stride: int = 1,\n",
        "        downsample: Optional[nn.Module] = None,\n",
        "        groups: int = 1,\n",
        "        base_width: int = 64,\n",
        "        dilation: int = 1,\n",
        "        norm_layer: Optional[Callable[..., nn.Module]] = None\n",
        "    ) -> None:\n",
        "        super(BasicBlock, self).__init__()\n",
        "        if norm_layer is None:\n",
        "            norm_layer = nn.BatchNorm2d\n",
        "        if groups != 1 or base_width != 64:\n",
        "            raise ValueError('BasicBlock only supports groups=1 and base_width=64')\n",
        "        if dilation > 1:\n",
        "            raise NotImplementedError(\"Dilation > 1 not supported in BasicBlock\")\n",
        "        # Both self.conv1 and self.downsample layers downsample the input when stride != 1\n",
        "        self.conv1 = conv3x3(inplanes, planes, stride)\n",
        "        self.bn1 = norm_layer(planes)\n",
        "        self.relu = nn.ReLU(inplace=True)\n",
        "        self.conv2 = conv3x3(planes, planes)\n",
        "        self.bn2 = norm_layer(planes)\n",
        "        self.downsample = downsample\n",
        "        self.stride = stride\n",
        "\n",
        "    def forward(self, x: Tensor) -> Tensor:\n",
        "        identity = x\n",
        "\n",
        "        out = self.conv1(x)\n",
        "        out = self.bn1(out)\n",
        "        out = self.relu(out)\n",
        "\n",
        "        out = self.conv2(out)\n",
        "        out = self.bn2(out)\n",
        "\n",
        "        if self.downsample is not None:\n",
        "            identity = self.downsample(x)\n",
        "\n",
        "        out += identity\n",
        "        out = self.relu(out)\n",
        "\n",
        "        return out\n",
        "\n",
        "class ResNet(nn.Module):\n",
        "\n",
        "    def __init__(\n",
        "        self,\n",
        "        block: Type[Union[BasicBlock, Bottleneck]],\n",
        "        layers: List[int],\n",
        "        num_classes: int = 1000,\n",
        "        zero_init_residual: bool = False,\n",
        "        groups: int = 1,\n",
        "        width_per_group: int = 64,\n",
        "        replace_stride_with_dilation: Optional[List[bool]] = None,\n",
        "        norm_layer: Optional[Callable[..., nn.Module]] = None\n",
        "    ) -> None:\n",
        "        super(ResNet, self).__init__()\n",
        "        if norm_layer is None:\n",
        "            norm_layer = nn.BatchNorm2d\n",
        "        self._norm_layer = norm_layer\n",
        "\n",
        "        self.inplanes = 64\n",
        "        self.dilation = 1\n",
        "        if replace_stride_with_dilation is None:\n",
        "            # each element in the tuple indicates if we should replace\n",
        "            # the 2x2 stride with a dilated convolution instead\n",
        "            replace_stride_with_dilation = [False, False, False]\n",
        "        if len(replace_stride_with_dilation) != 3:\n",
        "            raise ValueError(\"replace_stride_with_dilation should be None \"\n",
        "                             \"or a 3-element tuple, got {}\".format(replace_stride_with_dilation))\n",
        "        self.groups = groups\n",
        "        self.base_width = width_per_group\n",
        "\n",
        "        # layers\n",
        "        self.conv1 = nn.Conv2d(1, self.inplanes, kernel_size=7, stride=2, padding=3, bias=False)\n",
        "        self.bn1 = norm_layer(self.inplanes)\n",
        "        self.relu = nn.ReLU(inplace=True)\n",
        "        self.maxpool = nn.MaxPool2d(kernel_size=3, stride=2, padding=1)\n",
        "\n",
        "        self.layer1 = self._make_layer(block, 64, layers[0])\n",
        "        self.layer2 = self._make_layer(block, 128, layers[1], stride=2, dilate=replace_stride_with_dilation[0])\n",
        "        self.layer3 = self._make_layer(block, 256, layers[2], stride=2, dilate=replace_stride_with_dilation[1])\n",
        "        self.layer4 = self._make_layer(block, 512, layers[3], stride=2, dilate=replace_stride_with_dilation[2])\n",
        "\n",
        "        self.avgpool = nn.AdaptiveAvgPool2d((1, 1))\n",
        "        self.fc = nn.Linear(256 * block.expansion, num_classes)\n",
        "\n",
        "        self.conv6 = nn.Conv2d(512, 256, kernel_size=1, stride=2, bias=False)\n",
        "        self.bn2 = norm_layer(256)\n",
        "        self.relu2 = nn.ReLU(inplace=True)\n",
        "\n",
        "        for m in self.modules():\n",
        "            if isinstance(m, nn.Conv2d):\n",
        "                nn.init.kaiming_normal_(m.weight, mode='fan_out', nonlinearity='relu')\n",
        "            elif isinstance(m, (nn.BatchNorm2d, nn.GroupNorm)):\n",
        "                nn.init.constant_(m.weight, 1)\n",
        "                nn.init.constant_(m.bias, 0)\n",
        "\n",
        "        # Zero-initialize the last BN in each residual branch,\n",
        "        # so that the residual branch starts with zeros, and each residual block behaves like an identity.\n",
        "        # This improves the model by 0.2~0.3% according to https://arxiv.org/abs/1706.02677\n",
        "        if zero_init_residual:\n",
        "            for m in self.modules():\n",
        "                if isinstance(m, Bottleneck):\n",
        "                    nn.init.constant_(m.bn3.weight, 0)\n",
        "                elif isinstance(m, BasicBlock):\n",
        "                    nn.init.constant_(m.bn2.weight, 0)\n",
        "\n",
        "    def _make_layer(self, block: Type[Union[BasicBlock, Bottleneck]], planes: int, blocks: int,\n",
        "                    stride: int = 1, dilate: bool = False) -> nn.Sequential:\n",
        "        norm_layer = self._norm_layer\n",
        "        downsample = None\n",
        "        previous_dilation = self.dilation\n",
        "        if dilate:\n",
        "            self.dilation *= stride\n",
        "            stride = 1\n",
        "        if stride != 1 or self.inplanes != planes * block.expansion:\n",
        "            downsample = nn.Sequential(\n",
        "                conv1x1(self.inplanes, planes * block.expansion, stride),\n",
        "                norm_layer(planes * block.expansion),\n",
        "            )\n",
        "\n",
        "        layers = []\n",
        "        layers.append(block(self.inplanes, planes, stride, downsample, self.groups,\n",
        "                            self.base_width, previous_dilation, norm_layer))\n",
        "        self.inplanes = planes * block.expansion\n",
        "        for _ in range(1, blocks):\n",
        "            layers.append(block(self.inplanes, planes, groups=self.groups,\n",
        "                                base_width=self.base_width, dilation=self.dilation,\n",
        "                                norm_layer=norm_layer))\n",
        "\n",
        "        return nn.Sequential(*layers)\n",
        "\n",
        "    def _forward_impl(self, x: Tensor) -> Tensor:\n",
        "        # conv1,3*3,64\n",
        "        x = self.conv1(x)\n",
        "        x = self.bn1(x)\n",
        "        x = self.relu(x)\n",
        "\n",
        "        # conv2x,3*3,64\n",
        "        x = self.maxpool(x)\n",
        "        x = self.layer1(x)\n",
        "\n",
        "        # conv3x,3*3,128\n",
        "        x = self.layer2(x)\n",
        "\n",
        "        # conv4x,3*3,128\n",
        "        x = self.layer3(x)\n",
        "\n",
        "        # conv5x,3*3,128\n",
        "        x = self.layer4(x)\n",
        "\n",
        "        # GAP\n",
        "        x = self.avgpool(x)\n",
        "\n",
        "        # conv6,1*1,256\n",
        "        x = self.conv6(x)\n",
        "        x = self.bn2(x)\n",
        "        x = self.relu2(x)\n",
        "\n",
        "        # conv7,1*1, 7\n",
        "        x = torch.flatten(x, 1)\n",
        "        x = self.fc(x)\n",
        "\n",
        "        return x\n",
        "\n",
        "    def forward(self, x: Tensor) -> Tensor:\n",
        "        return self._forward_impl(x)\n",
        "\n",
        "\n",
        "def _resnet(arch: str, block: Type[Union[BasicBlock, Bottleneck]], layers: List[int], pretrained: bool, progress: bool, **kwargs: Any) -> ResNet:\n",
        "    model = ResNet(block, layers, **kwargs)\n",
        "    if pretrained:\n",
        "        state_dict = load_state_dict_from_url(pretrained_model_urls[arch],\n",
        "                                              progress=progress)\n",
        "        model.load_state_dict(state_dict)\n",
        "    return model\n",
        "\n",
        "def resnet18(pretrained: bool = False, progress: bool = True, **kwargs: Any) -> ResNet:\n",
        "    r\"\"\"ResNet-18 model from\n",
        "    `\"Deep Residual Learning for Image Recognition\" <https://arxiv.org/pdf/1512.03385.pdf>`_\n",
        "    Args:\n",
        "        pretrained (bool): If True, returns a model pre-trained on ImageNet\n",
        "        progress (bool): If True, displays a progress bar of the download to stderr\n",
        "    \"\"\"\n",
        "    return _resnet('resnet18', BasicBlock, [2, 2, 2, 2], pretrained, progress,\n",
        "                   **kwargs)\n",
        "\n",
        "\n",
        "\n"
      ],
      "execution_count": 91,
      "outputs": []
    },
    {
      "cell_type": "code",
      "metadata": {
        "id": "vfmn3T1epbYN",
        "outputId": "0eb7f41a-a350-4531-ce60-7cef6e70df6b",
        "colab": {
          "base_uri": "https://localhost:8080/"
        }
      },
      "source": [
        "import torchvision\n",
        "\n",
        "resnet_model = resnet18(num_classes=7)\n",
        "PATH = f\"{full_project_dir}/resnet_models/model_bs64_lr0.01_momentum0.95.pt\"\n",
        "resnet_model.load_state_dict(torch.load(PATH, map_location=torch.device('cpu')))\n",
        "resnet_model.eval()\n",
        "print(f\"loaded resnet model from {PATH}\")"
      ],
      "execution_count": 92,
      "outputs": [
        {
          "output_type": "stream",
          "text": [
            "loaded resnet model from /content/drive/My Drive/4A/CS486 Project/resnet_models/model_bs64_lr0.01_momentum0.95.pt\n"
          ],
          "name": "stdout"
        }
      ]
    },
    {
      "cell_type": "code",
      "metadata": {
        "id": "i_kSycp53Gxf",
        "outputId": "9a965c3a-bc36-4a91-d97d-f3455be4ddba",
        "colab": {
          "base_uri": "https://localhost:8080/",
          "height": 736
        }
      },
      "source": [
        "african_tensor_X = torch.stack(tuple(torchvision.transforms.functional.to_tensor(img).float() for img in african_X))\n",
        "african_pytorch_preds = get_emotion_indices(resnet_model(african_tensor_X).data)\n",
        "# print(african_pytorch_preds)\n",
        "# print(african_Y, african_pytorch_preds)\n",
        "show_predictions_plot(african_pytorch_preds)\n",
        "print(f\"African Resnet Accuracy: {get_accuracy(african_pytorch_preds, african_Y)}\")"
      ],
      "execution_count": 107,
      "outputs": [
        {
          "output_type": "stream",
          "text": [
            "replacing surprise with Neutral, score: 2.602910041809082\n",
            "replacing surprise with Neutral, score: 2.774925470352173\n",
            "replacing surprise with Happy, score: 2.1193675994873047\n",
            "replacing surprise with Neutral, score: 1.7675416469573975\n",
            "replacing surprise with Neutral, score: 1.6031352281570435\n",
            "replacing surprise with Happy, score: 2.295459747314453\n",
            "replacing surprise with Neutral, score: 2.504833221435547\n",
            "replacing surprise with Sad, score: 0.11488942801952362\n",
            "replacing surprise with Neutral, score: 1.6538445949554443\n",
            "replacing surprise with Neutral, score: 1.399024248123169\n",
            "replacing surprise with Neutral, score: 3.791142702102661\n",
            "replacing surprise with Fear, score: 2.697324752807617\n",
            "replacing surprise with Happy, score: 2.6248462200164795\n",
            "replacing surprise with Happy, score: 1.7209540605545044\n",
            "replacing surprise with Happy, score: 3.2508835792541504\n",
            "replacing surprise with Neutral, score: 0.3893897533416748\n",
            "replacing surprise with Fear, score: 3.697031259536743\n",
            "replacing surprise with Neutral, score: 0.8579333424568176\n",
            "replacing surprise with Neutral, score: 1.2134934663772583\n",
            "replacing surprise with Fear, score: 0.6895554661750793\n",
            "Replaced 20/48\n",
            "Fear        5\n",
            "Happy      26\n",
            "Neutral    15\n",
            "Sad         2\n",
            "dtype: int64\n",
            "African Resnet Accuracy: 0.20833333333333334\n"
          ],
          "name": "stdout"
        },
        {
          "output_type": "display_data",
          "data": {
            "image/png": "[encoded data removed]",
            "text/plain": [
              "<Figure size 432x288 with 1 Axes>"
            ]
          },
          "metadata": {
            "tags": [],
            "needs_background": "light"
          }
        }
      ]
    },
    {
      "cell_type": "code",
      "metadata": {
        "id": "CUB_yy-UA8dE",
        "outputId": "a36ff1ab-85e3-4729-edb9-0e247aae17fb",
        "colab": {
          "base_uri": "https://localhost:8080/",
          "height": 578
        }
      },
      "source": [
        "asian_tensor_X = torch.stack(tuple(torchvision.transforms.functional.to_tensor(img).float() for img in asian_X))\n",
        "asian_pytorch_preds = get_emotion_indices(resnet_model(asian_tensor_X).data)\n",
        "show_predictions_plot(asian_pytorch_preds)\n",
        "print(f\"asian Resnet Accuracy: {get_accuracy(asian_pytorch_preds, asian_Y)}\")"
      ],
      "execution_count": 108,
      "outputs": [
        {
          "output_type": "stream",
          "text": [
            "replacing surprise with Neutral, score: 2.2140161991119385\n",
            "replacing surprise with Neutral, score: 1.6319363117218018\n",
            "replacing surprise with Happy, score: 2.9831175804138184\n",
            "replacing surprise with Happy, score: 2.0044994354248047\n",
            "replacing surprise with Happy, score: 3.288562297821045\n",
            "replacing surprise with Happy, score: 2.871635913848877\n",
            "replacing surprise with Sad, score: 2.7234528064727783\n",
            "replacing surprise with Sad, score: 2.4155890941619873\n",
            "replacing surprise with Sad, score: 2.64691424369812\n",
            "replacing surprise with Happy, score: 1.4363347291946411\n",
            "replacing surprise with Happy, score: 1.3565993309020996\n",
            "Replaced 11/48\n",
            "Fear        1\n",
            "Happy      22\n",
            "Neutral     9\n",
            "Sad        16\n",
            "dtype: int64\n",
            "asian Resnet Accuracy: 0.16666666666666666\n"
          ],
          "name": "stdout"
        },
        {
          "output_type": "display_data",
          "data": {
            "image/png": "[encoded data removed]",
            "text/plain": [
              "<Figure size 432x288 with 1 Axes>"
            ]
          },
          "metadata": {
            "tags": [],
            "needs_background": "light"
          }
        }
      ]
    },
    {
      "cell_type": "code",
      "metadata": {
        "id": "lCX1O_c-CUXo",
        "outputId": "8c3221b3-c1cd-4927-9a99-27daf0d65c1a",
        "colab": {
          "base_uri": "https://localhost:8080/",
          "height": 545
        }
      },
      "source": [
        "caucasian_tensor_X = torch.stack(tuple(torchvision.transforms.functional.to_tensor(img).float() for img in caucasian_X))\n",
        "caucasian_pytorch_preds = get_emotion_indices(resnet_model(caucasian_tensor_X).data)\n",
        "show_predictions_plot(caucasian_pytorch_preds)\n",
        "print(f\"caucasian Resnet Accuracy: {get_accuracy(caucasian_pytorch_preds, caucasian_Y)}\")"
      ],
      "execution_count": 110,
      "outputs": [
        {
          "output_type": "stream",
          "text": [
            "replacing surprise with Sad, score: 2.875617742538452\n",
            "replacing surprise with Happy, score: 2.788973331451416\n",
            "replacing surprise with Sad, score: 2.07138991355896\n",
            "replacing surprise with Happy, score: 2.0518569946289062\n",
            "replacing surprise with Neutral, score: 2.2719380855560303\n",
            "replacing surprise with Neutral, score: 0.9263054728507996\n",
            "replacing surprise with Happy, score: 3.804826259613037\n",
            "replacing surprise with Happy, score: 1.9795186519622803\n",
            "replacing surprise with Happy, score: 1.991213321685791\n",
            "replacing surprise with Sad, score: 2.223626136779785\n",
            "Replaced 10/48\n",
            "Happy      24\n",
            "Neutral    11\n",
            "Sad        13\n",
            "dtype: int64\n",
            "caucasian Resnet Accuracy: 0.1875\n"
          ],
          "name": "stdout"
        },
        {
          "output_type": "display_data",
          "data": {
            "image/png": "[encoded data removed]",
            "text/plain": [
              "<Figure size 432x288 with 1 Axes>"
            ]
          },
          "metadata": {
            "tags": [],
            "needs_background": "light"
          }
        }
      ]
    },
    {
      "cell_type": "code",
      "metadata": {
        "id": "w7WvQgUqC7Aw",
        "outputId": "4322bc34-4c15-4ce5-8f8e-0f4496d96e1b",
        "colab": {
          "base_uri": "https://localhost:8080/",
          "height": 1000
        }
      },
      "source": [
        "hispanic_tensor_X = torch.stack(tuple(torchvision.transforms.functional.to_tensor(img).float() for img in hispanic_X))\n",
        "hispanic_pytorch_preds = get_emotion_indices(resnet_model(hispanic_tensor_X).data)\n",
        "show_predictions_plot(hispanic_pytorch_preds)\n",
        "print(f\"Hispanic Resnet Accuracy: {get_accuracy(hispanic_pytorch_preds, hispanic_Y)}\")"
      ],
      "execution_count": 109,
      "outputs": [
        {
          "output_type": "stream",
          "text": [
            "replacing surprise with Fear, score: 1.4010319709777832\n",
            "replacing surprise with Fear, score: 0.6925565600395203\n",
            "replacing surprise with Happy, score: -0.23687952756881714\n",
            "replacing surprise with Fear, score: 0.02371426671743393\n",
            "replacing surprise with Neutral, score: 1.6699132919311523\n",
            "replacing surprise with Happy, score: 0.3992110788822174\n",
            "replacing surprise with Sad, score: 1.6571272611618042\n",
            "replacing surprise with Happy, score: 1.8754289150238037\n",
            "replacing surprise with Fear, score: 2.5059494972229004\n",
            "replacing surprise with Fear, score: 1.720179796218872\n",
            "replacing surprise with Neutral, score: 1.089242696762085\n",
            "replacing surprise with Neutral, score: 0.10178957879543304\n",
            "replacing surprise with Sad, score: 2.5388526916503906\n",
            "replacing surprise with Sad, score: 2.1786787509918213\n",
            "replacing surprise with Sad, score: 3.0300588607788086\n",
            "replacing surprise with Sad, score: 2.215564250946045\n",
            "replacing surprise with Sad, score: 2.0024161338806152\n",
            "replacing surprise with Sad, score: 3.1458959579467773\n",
            "replacing surprise with Sad, score: 0.4138547480106354\n",
            "replacing surprise with Sad, score: -0.2597411274909973\n",
            "replacing surprise with Fear, score: 0.46780866384506226\n",
            "replacing surprise with Sad, score: 1.1255146265029907\n",
            "replacing surprise with Happy, score: 1.0376826524734497\n",
            "replacing surprise with Neutral, score: 1.6467900276184082\n",
            "replacing surprise with Neutral, score: 0.60616135597229\n",
            "replacing surprise with Neutral, score: -0.29185938835144043\n",
            "replacing surprise with Neutral, score: 0.7990960478782654\n",
            "replacing surprise with Happy, score: -0.131249338388443\n",
            "replacing surprise with Happy, score: 0.33532384037971497\n",
            "replacing surprise with Fear, score: 0.7900161147117615\n",
            "replacing surprise with Fear, score: 0.7214664220809937\n",
            "replacing surprise with Neutral, score: 0.48571956157684326\n",
            "replacing surprise with Neutral, score: 0.7860658764839172\n",
            "replacing surprise with Neutral, score: 1.0390225648880005\n",
            "replacing surprise with Fear, score: 2.3973441123962402\n",
            "replacing surprise with Neutral, score: 0.9720935821533203\n",
            "replacing surprise with Neutral, score: 1.252302885055542\n",
            "replacing surprise with Neutral, score: 0.2444622963666916\n",
            "replacing surprise with Fear, score: 1.1778619289398193\n",
            "replacing surprise with Neutral, score: 0.5633091926574707\n",
            "Replaced 40/48\n",
            "Fear       10\n",
            "Happy       9\n",
            "Neutral    17\n",
            "Sad        12\n",
            "dtype: int64\n",
            "Hispanic Resnet Accuracy: 0.16666666666666666\n"
          ],
          "name": "stdout"
        },
        {
          "output_type": "display_data",
          "data": {
            "image/png": "[encoded data removed]",
            "text/plain": [
              "<Figure size 432x288 with 1 Axes>"
            ]
          },
          "metadata": {
            "tags": [],
            "needs_background": "light"
          }
        }
      ]
    }
  ]
}